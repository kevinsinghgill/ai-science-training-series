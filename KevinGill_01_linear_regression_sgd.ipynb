{
  "cells": [
    {
      "cell_type": "markdown",
      "metadata": {
        "id": "Uvvlg48upEJZ"
      },
      "source": [
        "# Fitting Data with a Line\n",
        "\n",
        "Many of you have probably used Excel to fit data with a line.\n",
        "\n",
        "![excel_linear_regression](https://github.com/argonne-lcf/ai-science-training-series/blob/main/01_machineLearning/img/excel_linear_regression.jpg?raw=1)\n",
        "\n",
        "We're going to review the math involved in this process to help understand how training an AI works.\n",
        "\n",
        "First we will load some tools that others wrote and we can use to help us work.\n",
        "* [Pandas](https://pandas.pydata.org/docs/): a toolkit for working with row vs. column data, like excel sheets, and CSV (Comma Seperated Values) files.\n",
        "* [Numpy](https://numpy.org/doc/): a toolkit for managing arrays, vectors, matrices, etc, doing math with them, slicing them up, and many other handy things.\n",
        "* [Matplotlib](https://matplotlib.org/stable/index.html): a toolkit for plotting data"
      ]
    },
    {
      "cell_type": "code",
      "execution_count": 1,
      "metadata": {
        "id": "cXRbBxOQpEJc"
      },
      "outputs": [],
      "source": [
        "import pandas as pd\n",
        "import numpy as np\n",
        "import matplotlib.pyplot as plt\n",
        "import IPython.display as ipydis\n",
        "import time"
      ]
    },
    {
      "cell_type": "code",
      "source": [
        "!wget https://raw.githubusercontent.com/kevinsinghgill/ai-science-training-series/main/01_machineLearning/slimmed_realestate_data.csv"
      ],
      "metadata": {
        "id": "MDhc13mGq6K4",
        "outputId": "207c2d84-e21c-494d-8bfe-256dd2e83af0",
        "colab": {
          "base_uri": "https://localhost:8080/"
        }
      },
      "execution_count": 2,
      "outputs": [
        {
          "output_type": "stream",
          "name": "stdout",
          "text": [
            "--2022-09-25 00:36:07--  https://raw.githubusercontent.com/kevinsinghgill/ai-science-training-series/main/01_machineLearning/slimmed_realestate_data.csv\n",
            "Resolving raw.githubusercontent.com (raw.githubusercontent.com)... 185.199.108.133, 185.199.109.133, 185.199.110.133, ...\n",
            "Connecting to raw.githubusercontent.com (raw.githubusercontent.com)|185.199.108.133|:443... connected.\n",
            "HTTP request sent, awaiting response... 200 OK\n",
            "Length: 8804 (8.6K) [text/plain]\n",
            "Saving to: ‘slimmed_realestate_data.csv’\n",
            "\n",
            "\r          slimmed_r   0%[                    ]       0  --.-KB/s               \rslimmed_realestate_ 100%[===================>]   8.60K  --.-KB/s    in 0s      \n",
            "\n",
            "2022-09-25 00:36:07 (35.2 MB/s) - ‘slimmed_realestate_data.csv’ saved [8804/8804]\n",
            "\n"
          ]
        }
      ]
    },
    {
      "cell_type": "markdown",
      "metadata": {
        "id": "R8EZnjJVpEJd"
      },
      "source": [
        "# Dataset\n",
        "In the [previous notebook](00_make_slimmed_dataset.ipynb) we used a realestate dataset from Kaggle to produce this reduced dataset. This dataset contains the _sale price_ and _above ground square feet_ of many houses. We can use this data for our linear regression.\n",
        "\n",
        "We use Pandas to read the data file which is stored as Comma Separated Values (CSV). and print the column labels. CSV files are similar to excel sheets."
      ]
    },
    {
      "cell_type": "code",
      "execution_count": 3,
      "metadata": {
        "id": "1s0aykUipEJe",
        "outputId": "ea88a56c-962d-416e-dfa6-07d3f4af9e17",
        "colab": {
          "base_uri": "https://localhost:8080/"
        }
      },
      "outputs": [
        {
          "output_type": "stream",
          "name": "stdout",
          "text": [
            "Index(['Unnamed: 0', 'SalePrice', 'GrLivArea'], dtype='object')\n"
          ]
        }
      ],
      "source": [
        "data = pd.read_csv('slimmed_realestate_data.csv')\n",
        "print(data.columns)"
      ]
    },
    {
      "cell_type": "markdown",
      "metadata": {
        "id": "4st4h3SzpEJf"
      },
      "source": [
        "Now pandas provides some helpful tools for us to inspect our data. It provides a `plot()` function that, behind the scenes, is calling into the _Matplotlib_ library and calling the function [matplotlib.pyplot.plot()](https://matplotlib.org/stable/api/_as_gen/matplotlib.pyplot.plot.html). In this case, we simply tell it the names of the columns we want as our _x_ and _y_ values and the `style` (`'.'` tells `matplotlib` to use a small dot to represent each data point)."
      ]
    },
    {
      "cell_type": "code",
      "execution_count": 4,
      "metadata": {
        "id": "q3aaFh5BpEJf",
        "outputId": "d0d46382-f667-420f-b021-4bec859b7449",
        "colab": {
          "base_uri": "https://localhost:8080/",
          "height": 297
        }
      },
      "outputs": [
        {
          "output_type": "execute_result",
          "data": {
            "text/plain": [
              "<matplotlib.axes._subplots.AxesSubplot at 0x7f4ee312ef50>"
            ]
          },
          "metadata": {},
          "execution_count": 4
        },
        {
          "output_type": "display_data",
          "data": {
            "text/plain": [
              "<Figure size 432x288 with 1 Axes>"
            ],
            "image/png": "[encoded data removed]"
          },
          "metadata": {
            "needs_background": "light"
          }
        }
      ],
      "source": [
        "data.plot(x='GrLivArea',y='SalePrice',style='.')"
      ]
    },
    {
      "cell_type": "markdown",
      "metadata": {
        "id": "7ELUjiRApEJg"
      },
      "source": [
        "# Linear Regression\n",
        "\n",
        "If you have data, $(x,y)$, that you think can be fit by a line, $y = m x + b$, then there are [simple equations](https://en.wikipedia.org/wiki/Simple_linear_regression) one can use to calculate the slope ($m$) and intercept ($b$).\n",
        "\n",
        "They are:\n",
        "\n",
        "$$m = { n (\\Sigma xy) - (\\Sigma x) (\\Sigma y) \\over n (\\Sigma x^2) - (\\Sigma x)^2 } $$\n",
        "\n",
        "$$b = { (\\Sigma y) (\\Sigma x^2) - (\\Sigma x) (\\Sigma xy) \\over n (\\Sigma x^2) - (\\Sigma x)^2 } $$\n",
        "\n",
        "We'll break this calculation into a few steps to help make it easier.\n",
        "\n",
        "First lets define $x$ and $y$. $x$ will be our _above ground square footage_ and $y$ will be _sale price_. In our equations we have a few different values we need, such as $n$ which is just the number of points we have:"
      ]
    },
    {
      "cell_type": "code",
      "execution_count": 5,
      "metadata": {
        "id": "up_de6kWpEJh"
      },
      "outputs": [],
      "source": [
        "n = len(data)"
      ]
    },
    {
      "cell_type": "markdown",
      "metadata": {
        "id": "TSookRGupEJh"
      },
      "source": [
        "Then we need our $x$ and $y$ by selecting only the column we care about for each one. Note about data formats: `data` is a Pandas [DataFrame](https://pandas.pydata.org/docs/reference/api/pandas.DataFrame.html#pandas.DataFrame) object which has rows and columns; `data['GrLivArea']` is a Pandas [Series](https://pandas.pydata.org/docs/reference/api/pandas.Series.html) object which only has rows; then we also convert from _Pandas_ data formats (in this case a _Series_) to _Numpy_ data formats using the `to_numpy()` function which is part of the Pandas _Series_ object. "
      ]
    },
    {
      "cell_type": "code",
      "execution_count": 6,
      "metadata": {
        "id": "uNtw2TzmpEJi"
      },
      "outputs": [],
      "source": [
        "x = data['GrLivArea'].to_numpy()\n",
        "y = data['SalePrice'].to_numpy()"
      ]
    },
    {
      "cell_type": "markdown",
      "metadata": {
        "id": "fCcZwzx9pEJi"
      },
      "source": [
        "Now we will calculate $\\Sigma xy$, $\\Sigma x$, $\\Sigma y$, and $\\Sigma x^2$:"
      ]
    },
    {
      "cell_type": "code",
      "execution_count": 7,
      "metadata": {
        "id": "Rj42znr9pEJi"
      },
      "outputs": [],
      "source": [
        "sum_xy = np.sum(x*y)\n",
        "sum_x = np.sum(x)\n",
        "sum_y = np.sum(y)\n",
        "sum_x2 = np.sum(x*x)"
      ]
    },
    {
      "cell_type": "markdown",
      "metadata": {
        "id": "T1g68PQIpEJj"
      },
      "source": [
        "The denominator in the equation for $m$ and $b$ are the same so we can calculate that once:"
      ]
    },
    {
      "cell_type": "code",
      "execution_count": 8,
      "metadata": {
        "id": "qyHdY56MpEJj"
      },
      "outputs": [],
      "source": [
        "denominator = n * sum_x2 - sum_x * sum_x"
      ]
    },
    {
      "cell_type": "markdown",
      "metadata": {
        "id": "LV1PcZMXpEJj"
      },
      "source": [
        "Then we can calculate our fit values:"
      ]
    },
    {
      "cell_type": "code",
      "execution_count": 9,
      "metadata": {
        "id": "c6mKJrAEpEJk",
        "outputId": "9535e883-2afd-4119-a73d-80d3c2812e9f",
        "colab": {
          "base_uri": "https://localhost:8080/"
        }
      },
      "outputs": [
        {
          "output_type": "stream",
          "name": "stdout",
          "text": [
            "y = 87.688145 * x + 34754.077892\n"
          ]
        }
      ],
      "source": [
        "m = (n * sum_xy - sum_x * sum_y) / denominator\n",
        "b = (sum_y * sum_x2 - sum_x * sum_xy) / denominator\n",
        "print('y = %f * x + %f' % (m,b))\n",
        "\n",
        "# saving these for later comparison\n",
        "m_calc = m\n",
        "b_calc = b"
      ]
    },
    {
      "cell_type": "markdown",
      "metadata": {
        "id": "xJDtWkZepEJk"
      },
      "source": [
        "Now we can plot the fit results with our data to see how we did. \n",
        "\n",
        "First we define a plotting function because we're going to do this often and we want to reuse our code:"
      ]
    },
    {
      "cell_type": "code",
      "execution_count": 10,
      "metadata": {
        "id": "1nQStFcQpEJk"
      },
      "outputs": [],
      "source": [
        "def plot_data(x,y,m,b,plt = plt):\n",
        "   # plot our data points with 'bo' = blue circles\n",
        "   plt.plot(x,y,'bo')\n",
        "   # create the line based on our linear fit\n",
        "   # first we need to make x points\n",
        "   # the 'arange' function generates points between two limits (min,max)\n",
        "   linear_x = np.arange(x.min(),x.max())\n",
        "   # now we use our fit parameters to calculate the y points based on our x points\n",
        "   linear_y = linear_x * m + b\n",
        "   # plot the linear points using 'r-' = red line\n",
        "   plt.plot(linear_x,linear_y,'r-',label='fit')"
      ]
    },
    {
      "cell_type": "markdown",
      "metadata": {
        "id": "Rd3oD9wupEJl"
      },
      "source": [
        "Now can use this function to plot our results:"
      ]
    },
    {
      "cell_type": "code",
      "execution_count": 11,
      "metadata": {
        "id": "bzbATaIDpEJl",
        "colab": {
          "base_uri": "https://localhost:8080/",
          "height": 265
        },
        "outputId": "18bdddc1-f5de-4021-82ea-dc894fade08d"
      },
      "outputs": [
        {
          "output_type": "display_data",
          "data": {
            "text/plain": [
              "<Figure size 432x288 with 1 Axes>"
            ],
            "image/png": "[encoded data removed]"
          },
          "metadata": {
            "needs_background": "light"
          }
        }
      ],
      "source": [
        "plot_data(x,y,m,b)"
      ]
    },
    {
      "cell_type": "markdown",
      "metadata": {
        "id": "v3T4oN32pEJl"
      },
      "source": [
        "# Stochastic Gradient Descent\n",
        "\n",
        "SGD is a common method in AI for training deep neural networks on large datasets. It is an iterative method for optimizing a loss function that we get to define. We will use this simple linear regression to demonstrate how it works.\n",
        "\n",
        "# The model\n",
        "\n",
        "In AI, neural networks are often referred to as a _model_ because, once fully trained, they should model (AKA predict) the behavior of our system. In our example, the system is how house prices vary based on house size. We know our system is roughly driven by a linear function:\n",
        "\n",
        "$$ \\hat{y_i}(x_i) = m * x_i + b $$\n",
        "\n",
        "We just need to figure out $m$ and $b$. Let's create a function that calculates our model given $x$, $m$, and $b$.\n"
      ]
    },
    {
      "cell_type": "code",
      "execution_count": 12,
      "metadata": {
        "id": "g2ZZC5RMpEJl"
      },
      "outputs": [],
      "source": [
        "def model(x,m,b):\n",
        "   return m * x + b"
      ]
    },
    {
      "cell_type": "markdown",
      "metadata": {
        "id": "wcQJILrXpEJl"
      },
      "source": [
        "\n",
        "# The Loss Function\n",
        "\n",
        "A _loss function_, or _objective function_, is something we define and is based on what we want to achieve. In the method of SGD, it is our goal to minimize (or make close to zero) the values calculated from the _loss function_. In our example, we ideally want the prediction of our _model_ to be equal to the actual data, though we will settle for \"as close as possible\".\n",
        "\n",
        "So we will select our _loss function_ to be the [Mean Squared Error](https://en.wikipedia.org/wiki/Mean_squared_error) function:\n",
        "\n",
        "$$ L(y_i,\\hat{y_i}) = (y_i - \\hat{y_i}(x_i))^2 $$\n",
        "\n",
        "where $y_i$ is our $i^{th}$ entry in the `data['SalePrice']` vector and $\\hat{y_i}$ is the prediction based on evaluting $m * x_i + b$.\n",
        "\n",
        "This function looks like the figure below when we plot it with $x=y_i - \\hat{y_i}(x_i)$ and we we want to be down near $y_i - \\hat{y_i}(x_i) = 0$ which indicates that our $y_i$ is as close as possible to $\\hat{y_i}$.\n",
        "\n",
        "![loss_func](https://github.com/argonne-lcf/ai-science-training-series/blob/main/01_machineLearning/img/loss_func.png?raw=1)\n",
        "\n",
        "\n",
        "Here we crate a function that calculates this for us."
      ]
    },
    {
      "cell_type": "code",
      "execution_count": 13,
      "metadata": {
        "id": "tctrLRnYpEJm"
      },
      "outputs": [],
      "source": [
        "def loss(x,y,m,b):\n",
        "   y_predicted = model(x,m,b)\n",
        "   return np.power( y - y_predicted, 2 )"
      ]
    },
    {
      "cell_type": "markdown",
      "metadata": {
        "id": "MpIQzGmzpEJm"
      },
      "source": [
        "# Minimizing the Loss Function\n",
        "\n",
        "We want to use the loss function in order to guide how to update $m$ and $b$ to better model our system. In calculus we learn to minimize a function with respect to a variable you calculate the _partial derivative_ with respect to the variable you want to vary.\n",
        "\n",
        "$$ { \\partial L \\over \\partial m } = 0 $$\n",
        "\n",
        "The location of the solution to this is the minimum as shown in the figure above. We can write down the partial derivative of the loss function as:\n",
        "\n",
        "$$ { \\partial L \\over \\partial m } = -2 x_i (y_i - \\hat{y_i}(x_i)) $$\n",
        "$$ { \\partial L \\over \\partial b } = -2 (y_i - \\hat{y_i}(x_i)) $$\n",
        "\n",
        "We can use this to calculate an adjustment to $m$ and $b$ that will reduce the loss function, effectively improving our fitting parameters. This is done using this equation:\n",
        "\n",
        "$$ m' = m - \\eta { \\partial L \\over \\partial m }$$\n",
        "$$ b' = b - \\eta { \\partial L \\over \\partial b }$$\n",
        "\n",
        "Here our original $m$ and $b$ are adjusted by the partial derivative multiplied by some small factor, $\\eta$, called the _learning rate_. This learning rate is very important in our process and must be tuned for every problem.\n",
        "\n",
        "In our example, the selection of the learning rate essentially defines how close we can get to the minimum, AKA the best fit solution. This figure shows what happens when we pick a large learning rate. We first select a starting point in our loss function (typically randomly), then every update from $m$/$b$ to $m'$/$b'$ results in a shift to somewhere else on our loss function (following the red arrows). In this example, our learning rate ($\\eta$) has been selected too large such that we bounce back and forth around the minimum, never reaching it.\n",
        "\n",
        "![largeLR](https://github.com/argonne-lcf/ai-science-training-series/blob/main/01_machineLearning/img/parabola_largeLR.png?raw=1)\n",
        "\n",
        "If we select a smaller learning we can see better behavior in the next figure.\n",
        "\n",
        "![smallLR](https://github.com/argonne-lcf/ai-science-training-series/blob/main/01_machineLearning/img/parabola_smallLR.png?raw=1)\n",
        "\n",
        "Though, keep in mind, too small a learning rate results is so little progress toward the minimum that you may never reach it!\n",
        "\n",
        "A pit fall of SGD that one must be aware of is when your loss function is complex, with many minima. The next figure shows such a case, in which we select a small learning rate and our starting point happens to be near a local minimum that is not the lowest minimum. As shown, we do reach a minimum, but it isn't the lowest minimum in our loss function. It could be that we randomly select a starting point near the minimum we care about, but we should build methods that are more robust against randomly getting the right answer.\n",
        "\n",
        "![local_min_smallLR](https://github.com/argonne-lcf/ai-science-training-series/blob/main/01_machineLearning/img/local_min_smallLR.png?raw=1)\n",
        "\n",
        "Then, if we increase our learning rate too much, we bounce around again.\n",
        "\n",
        "![local_min_largeLR](https://github.com/argonne-lcf/ai-science-training-series/blob/main/01_machineLearning/img/local_min_largeLR.png?raw=1)\n",
        "\n",
        "What we want to do in this situation is start with a large learning rate and slowly reduce its size as we progress. That is shown in this next figure.\n",
        "\n",
        "![local_min_variableLR](https://github.com/argonne-lcf/ai-science-training-series/blob/main/01_machineLearning/img/local_min_variableLR.png?raw=1)\n",
        "\n",
        "As you can see, this process is not perfect and could still land in a local minimum, but it is important to be aware of these behaviors as you utilize SGD in machine learning.\n",
        "\n",
        "So let's continue, we'll build functions we can use to update our fit parameters, $m$ and $b$."
      ]
    },
    {
      "cell_type": "code",
      "execution_count": 14,
      "metadata": {
        "id": "yFtHJY7apEJm"
      },
      "outputs": [],
      "source": [
        "def updated_m(x,y,m,b,learning_rate):\n",
        "   dL_dm = - 2 * x * (y - model(x,m,b))\n",
        "   dL_dm = np.mean(dL_dm)\n",
        "   return m - learning_rate * dL_dm\n",
        "\n",
        "def updated_b(x,y,m,b,learning_rate):\n",
        "   dL_db = - 2 * (y - model(x,m,b))\n",
        "   dL_db = np.mean(dL_db)\n",
        "   return b - learning_rate * dL_db"
      ]
    },
    {
      "cell_type": "markdown",
      "metadata": {
        "id": "UeX0zI-9pEJm"
      },
      "source": [
        "# Putting it together\n",
        "\n",
        "We can now randomly select our initial slope and intercept:"
      ]
    },
    {
      "cell_type": "code",
      "execution_count": 15,
      "metadata": {
        "id": "113v0-AppEJn",
        "colab": {
          "base_uri": "https://localhost:8080/"
        },
        "outputId": "2933ec52-53fb-460d-b81e-44f7b9f2cd80"
      },
      "outputs": [
        {
          "output_type": "stream",
          "name": "stdout",
          "text": [
            "y_i = 5.00 * x + 1000.00\n"
          ]
        }
      ],
      "source": [
        "m = 5.\n",
        "b = 1000.\n",
        "print('y_i = %.2f * x + %.2f' % (m,b))"
      ]
    },
    {
      "cell_type": "markdown",
      "metadata": {
        "id": "_5BNYljVpEJn"
      },
      "source": [
        "Then we can calculate our Loss function:"
      ]
    },
    {
      "cell_type": "code",
      "execution_count": 16,
      "metadata": {
        "id": "788dUTE7pEJn",
        "colab": {
          "base_uri": "https://localhost:8080/"
        },
        "outputId": "d20e835f-39cc-484c-882b-4cec24ebbb32"
      },
      "outputs": [
        {
          "output_type": "stream",
          "name": "stdout",
          "text": [
            "first 10 loss values:  [3.03421561e+10 3.55511025e+10 1.24579082e+10 1.91656336e+10\n",
            " 1.60604929e+10 2.04432804e+10 1.72410030e+10 1.76517796e+10\n",
            " 1.52769600e+10 2.18152900e+10]\n"
          ]
        }
      ],
      "source": [
        "l = loss(x,y,m,b)\n",
        "print('first 10 loss values: ',l[:10])"
      ]
    },
    {
      "cell_type": "code",
      "execution_count": 17,
      "metadata": {
        "id": "KbNjLwG3pEJn",
        "colab": {
          "base_uri": "https://localhost:8080/",
          "height": 283
        },
        "outputId": "d4393cbb-b651-472e-d6ed-4d4eafcee191"
      },
      "outputs": [
        {
          "output_type": "stream",
          "name": "stdout",
          "text": [
            "y_i = 5.47 * x + 1000.00     previously calculated: y_i = 87.69 * x + 34754.08\n"
          ]
        },
        {
          "output_type": "display_data",
          "data": {
            "text/plain": [
              "<Figure size 432x288 with 1 Axes>"
            ],
            "image/png": "[encoded data removed]"
          },
          "metadata": {
            "needs_background": "light"
          }
        }
      ],
      "source": [
        "learning_rate = 1e-9\n",
        "m = updated_m(x,y,m,b,learning_rate)\n",
        "b = updated_b(x,y,m,b,learning_rate)\n",
        "print('y_i = %.2f * x + %.2f     previously calculated: y_i = %.2f * x + %.2f' % (m,b,m_calc,b_calc))\n",
        "plot_data(x,y,m,b)"
      ]
    },
    {
      "cell_type": "code",
      "execution_count": null,
      "metadata": {
        "id": "6Ej6INXOpEJn"
      },
      "outputs": [],
      "source": [
        "# set our initial slope and intercept\n",
        "m = 5.\n",
        "b = 1000.\n",
        "# batch_size = 60\n",
        "# set a learning rate for each parameter\n",
        "learning_rate_m = 1e-7\n",
        "learning_rate_b = 1e-1\n",
        "# use these to plot our progress over time\n",
        "loss_history = []\n",
        "\n",
        "# we run our loop N times\n",
        "loop_N = 30\n",
        "for i in range(loop_N):\n",
        "   \n",
        "   # convert panda data to numpy arrays, one for the \"Ground Living Area\" and one for \"Sale Price\"\n",
        "   data_x = data['GrLivArea'].to_numpy()\n",
        "   data_y = data['SalePrice'].to_numpy()\n",
        "   \n",
        "   # update our slope and intercept based on the current values\n",
        "   m = updated_m(data_x,data_y,m,b,learning_rate_m)\n",
        "   b = updated_b(data_x,data_y,m,b,learning_rate_b)\n",
        "\n",
        "   # calculate the loss value\n",
        "   loss_value = np.mean(loss(data_x,data_y,m,b))\n",
        "\n",
        "   # keep a history of our loss values\n",
        "   loss_history.append(loss_value)\n",
        "\n",
        "   # print our progress\n",
        "   print('[%03d]  dy_i = %.2f * x + %.2f     previously calculated: y_i = %.2f * x + %.2f    loss: %f' % (i,m,b,m_calc,b_calc,loss_value))\n",
        "   \n",
        "   # close/delete previous plots\n",
        "   plt.close('all')\n",
        "   \n",
        "   # create a 1 by 2 plot grid\n",
        "   fig,ax = plt.subplots(1,2,figsize=(18,6),dpi=80)\n",
        "   # lot our usual output\n",
        "   plot_data(data_x,data_y,m,b,ax[0])\n",
        "\n",
        "   # here we also plot the calculated linear fit for comparison\n",
        "   line_x = np.arange(data_x.min(),data_x.max())\n",
        "   line_y = line_x * m_calc + b_calc\n",
        "   ax[0].plot(line_x,line_y,'b-',label='calculated')\n",
        "   # add a legend to the plot and x/y labels\n",
        "   ax[0].legend()\n",
        "   ax[0].set_xlabel('square footage')\n",
        "   ax[0].set_ylabel('sale price')\n",
        "\n",
        "   # plot the loss \n",
        "   loss_x = np.arange(0,len(loss_history))\n",
        "   loss_y = np.asarray(loss_history)\n",
        "   ax[1].plot(loss_x,loss_y)\n",
        "   ax[1].set_yscale('log')\n",
        "   ax[1].set_xlabel('loop step')\n",
        "   ax[1].set_ylabel('loss')\n",
        "   plt.show()\n",
        "   # gives us time to see the plot\n",
        "   time.sleep(2.5)\n",
        "   # clears the plot when the next plot is ready to show.\n",
        "   ipydis.clear_output(wait=True)\n",
        "\n"
      ]
    },
    {
      "cell_type": "code",
      "execution_count": null,
      "metadata": {
        "id": "9Z0Cyk-cpEJo"
      },
      "outputs": [],
      "source": []
    },
    {
      "cell_type": "markdown",
      "metadata": {
        "id": "UVvgdtj9pEJo"
      },
      "source": [
        "# In Class Exercises\n",
        "1. In AI, datasets are often very large and cannot be processed all at once as is done in the loop above. The data is instead randomly sampled in smaller _batches_ where each _batch_ contains `batch_size` inputs. How can you change the loop above to sample the dataset in smaller batches? Hint: Our `data` variable is a Pandas `DataFrame` object, search for \"how to sample a DataFrame\".\n",
        "2. As described above, learning rates that grow smaller over time can help find and get closer to global minima. In the loop above, our `learning_rate_m` and `learning_rate_b` are constant through the process of minimizing our parameters. How could you change the loop to reduce the learning rates over loop iterations?\n"
      ]
    },
    {
      "cell_type": "code",
      "execution_count": 28,
      "metadata": {
        "id": "km2zMybdpEJo",
        "colab": {
          "base_uri": "https://localhost:8080/",
          "height": 670
        },
        "outputId": "ffba3d43-940e-449c-d537-03beef22c3cc"
      },
      "outputs": [
        {
          "output_type": "stream",
          "name": "stdout",
          "text": [
            "[005]  dy_i = 85.13 * x + 35854.49     previously calculated: y_i = 87.69 * x + 34754.08    loss: 1485848365.087904\n"
          ]
        },
        {
          "output_type": "display_data",
          "data": {
            "text/plain": [
              "<Figure size 1440x480 with 2 Axes>"
            ],
            "image/png": "[encoded data removed]"
          },
          "metadata": {
            "needs_background": "light"
          }
        },
        {
          "output_type": "error",
          "ename": "KeyboardInterrupt",
          "evalue": "ignored",
          "traceback": [
            "\u001b[0;31m---------------------------------------------------------------------------\u001b[0m",
            "\u001b[0;31mKeyboardInterrupt\u001b[0m                         Traceback (most recent call last)",
            "\u001b[0;32m<ipython-input-28-422c12c18f66>\u001b[0m in \u001b[0;36m<module>\u001b[0;34m\u001b[0m\n\u001b[1;32m     65\u001b[0m      \u001b[0mplt\u001b[0m\u001b[0;34m.\u001b[0m\u001b[0mshow\u001b[0m\u001b[0;34m(\u001b[0m\u001b[0;34m)\u001b[0m\u001b[0;34m\u001b[0m\u001b[0;34m\u001b[0m\u001b[0m\n\u001b[1;32m     66\u001b[0m   \u001b[0;31m# gives us time to see the plot\u001b[0m\u001b[0;34m\u001b[0m\u001b[0;34m\u001b[0m\u001b[0;34m\u001b[0m\u001b[0m\n\u001b[0;32m---> 67\u001b[0;31m      \u001b[0mtime\u001b[0m\u001b[0;34m.\u001b[0m\u001b[0msleep\u001b[0m\u001b[0;34m(\u001b[0m\u001b[0;36m2.5\u001b[0m\u001b[0;34m)\u001b[0m\u001b[0;34m\u001b[0m\u001b[0;34m\u001b[0m\u001b[0m\n\u001b[0m\u001b[1;32m     68\u001b[0m   \u001b[0;31m# clears the plot when the next plot is ready to show.\u001b[0m\u001b[0;34m\u001b[0m\u001b[0;34m\u001b[0m\u001b[0;34m\u001b[0m\u001b[0m\n\u001b[1;32m     69\u001b[0m      \u001b[0mipydis\u001b[0m\u001b[0;34m.\u001b[0m\u001b[0mclear_output\u001b[0m\u001b[0;34m(\u001b[0m\u001b[0mwait\u001b[0m\u001b[0;34m=\u001b[0m\u001b[0;32mTrue\u001b[0m\u001b[0;34m)\u001b[0m\u001b[0;34m\u001b[0m\u001b[0;34m\u001b[0m\u001b[0m\n",
            "\u001b[0;31mKeyboardInterrupt\u001b[0m: "
          ]
        }
      ],
      "source": [
        "# set our initial slope and intercept\n",
        "m = 5.\n",
        "b = 1000.\n",
        "batch_size = 32\n",
        "split_size = int(len(data)/batch_size)\n",
        "# set a learning rate for each parameter\n",
        "learning_rate_m = 1e-7\n",
        "learning_rate_b = 1e-1\n",
        "# use these to plot our progress over time\n",
        "loss_history = []\n",
        "\n",
        "data_x = data['GrLivArea'].to_numpy()\n",
        "data_y = data['SalePrice'].to_numpy()\n",
        "batches_x=[]\n",
        "batches_y=[]\n",
        "for batch in np.array_split(data_x, split_size):\n",
        "  batches_x.append(batch)\n",
        "for batch in np.array_split(data_y, split_size):\n",
        "  batches_y.append(batch)\n",
        "\n",
        "# we run our loop N times\n",
        "epochs = 30\n",
        "for i in range(epochs):\n",
        "   \n",
        "   # load data in batches\n",
        "   for j in range(split_size):\n",
        "     batch_x = batches_x[j]\n",
        "     batch_y = batches_y[j]\n",
        "    #  update our slope and intercept based on the current values\n",
        "     m = updated_m(batch_x,batch_y,m,b,learning_rate_m)\n",
        "     b = updated_b(batch_x,batch_y,m,b,learning_rate_b)\n",
        "    #  calculate the loss value\n",
        "     loss_value = np.mean(loss(data_x,data_y,m,b))\n",
        "\n",
        "      # keep a history of our loss values\n",
        "     loss_history.append(loss_value)\n",
        "\n",
        "      # print our progress\n",
        "     print('[%03d]  dy_i = %.2f * x + %.2f     previously calculated: y_i = %.2f * x + %.2f    loss: %f' % (i,m,b,m_calc,b_calc,loss_value))\n",
        "\n",
        "  # close/delete previous plots\n",
        "     plt.close('all')\n",
        "\n",
        "  # create a 1 by 2 plot grid\n",
        "     fig,ax = plt.subplots(1,2,figsize=(18,6),dpi=80)\n",
        "  # lot our usual output\n",
        "     plot_data(data_x,data_y,m,b,ax[0])\n",
        "\n",
        "  # here we also plot the calculated linear fit for comparison\n",
        "     line_x = np.arange(data_x.min(),data_x.max())\n",
        "     line_y = line_x * m_calc + b_calc\n",
        "     ax[0].plot(line_x,line_y,'b-',label='calculated')\n",
        "  # add a legend to the plot and x/y labels\n",
        "     ax[0].legend()\n",
        "     ax[0].set_xlabel('square footage')\n",
        "     ax[0].set_ylabel('sale price')\n",
        "\n",
        "  # plot the loss \n",
        "     loss_x = np.arange(0,len(loss_history))\n",
        "     loss_y = np.asarray(loss_history)\n",
        "     ax[1].plot(loss_x,loss_y)\n",
        "     ax[1].set_yscale('log')\n",
        "     ax[1].set_xlabel('loop step')\n",
        "     ax[1].set_ylabel('loss')\n",
        "     plt.show()\n",
        "  # gives us time to see the plot\n",
        "     time.sleep(2.5)\n",
        "  # clears the plot when the next plot is ready to show.\n",
        "     ipydis.clear_output(wait=True)\n",
        "\n"
      ]
    },
    {
      "cell_type": "code",
      "execution_count": 30,
      "metadata": {
        "id": "7ZgjBJnapEJp",
        "colab": {
          "base_uri": "https://localhost:8080/",
          "height": 447
        },
        "outputId": "3e701ee3-62ec-4a14-89ed-1f583bd0981d"
      },
      "outputs": [
        {
          "output_type": "stream",
          "name": "stdout",
          "text": [
            "[029]  dy_i = 86.84 * x + 35688.82     previously calculated: y_i = 87.69 * x + 34754.08    loss: 1478051810.375230\n"
          ]
        },
        {
          "output_type": "display_data",
          "data": {
            "text/plain": [
              "<Figure size 1440x480 with 2 Axes>"
            ],
            "image/png": "[encoded data removed]"
          },
          "metadata": {
            "needs_background": "light"
          }
        }
      ],
      "source": [
        "# set our initial slope and intercept\n",
        "m = 5.\n",
        "b = 1000.\n",
        "batch_size = 32\n",
        "split_size = int(len(data)/batch_size)\n",
        "# set a learning rate for each parameter\n",
        "learning_rate_m = 1e-7\n",
        "learning_rate_b = 1e-1\n",
        "# use these to plot our progress over time\n",
        "loss_history = []\n",
        "\n",
        "data_x = data['GrLivArea'].to_numpy()\n",
        "data_y = data['SalePrice'].to_numpy()\n",
        "batches_x=[]\n",
        "batches_y=[]\n",
        "for batch in np.array_split(data_x, split_size):\n",
        "  batches_x.append(batch)\n",
        "for batch in np.array_split(data_y, split_size):\n",
        "  batches_y.append(batch)\n",
        "\n",
        "# we run our loop N times\n",
        "epochs = 30\n",
        "for i in range(epochs):\n",
        "  # decrease learning rates as epochs progress\n",
        "  learning_rate_b = learning_rate_b/(1+i/15)\n",
        "  learning_rate_m = learning_rate_m/(1+i/15)\n",
        "   # load data in batches\n",
        "  for j in range(split_size):\n",
        "     batch_x = batches_x[j]\n",
        "     batch_y = batches_y[j]\n",
        "    #  update our slope and intercept based on the current values\n",
        "     m = updated_m(batch_x,batch_y,m,b,learning_rate_m)\n",
        "     b = updated_b(batch_x,batch_y,m,b,learning_rate_b)\n",
        "    #  calculate the loss value\n",
        "     loss_value = np.mean(loss(data_x,data_y,m,b))\n",
        "\n",
        "      # keep a history of our loss values\n",
        "     loss_history.append(loss_value)\n",
        "\n",
        "      # print our progress\n",
        "     print('[%03d]  dy_i = %.2f * x + %.2f     previously calculated: y_i = %.2f * x + %.2f    loss: %f' % (i,m,b,m_calc,b_calc,loss_value))\n",
        "\n",
        "  # close/delete previous plots\n",
        "     plt.close('all')\n",
        "\n",
        "  # create a 1 by 2 plot grid\n",
        "     fig,ax = plt.subplots(1,2,figsize=(18,6),dpi=80)\n",
        "  # lot our usual output\n",
        "     plot_data(data_x,data_y,m,b,ax[0])\n",
        "\n",
        "  # here we also plot the calculated linear fit for comparison\n",
        "     line_x = np.arange(data_x.min(),data_x.max())\n",
        "     line_y = line_x * m_calc + b_calc\n",
        "     ax[0].plot(line_x,line_y,'b-',label='calculated')\n",
        "  # add a legend to the plot and x/y labels\n",
        "     ax[0].legend()\n",
        "     ax[0].set_xlabel('square footage')\n",
        "     ax[0].set_ylabel('sale price')\n",
        "\n",
        "  # plot the loss \n",
        "     loss_x = np.arange(0,len(loss_history))\n",
        "     loss_y = np.asarray(loss_history)\n",
        "     ax[1].plot(loss_x,loss_y)\n",
        "     ax[1].set_yscale('log')\n",
        "     ax[1].set_xlabel('loop step')\n",
        "     ax[1].set_ylabel('loss')\n",
        "     plt.show()\n",
        "  # gives us time to see the plot\n",
        "     time.sleep(2.5)\n",
        "  # clears the plot when the next plot is ready to show.\n",
        "     ipydis.clear_output(wait=True)"
      ]
    },
    {
      "cell_type": "code",
      "execution_count": null,
      "metadata": {
        "id": "5Q_0x_jIpEJp"
      },
      "outputs": [],
      "source": []
    }
  ],
  "metadata": {
    "kernelspec": {
      "display_name": "Python 3.8.3",
      "language": "python",
      "name": "python3"
    },
    "language_info": {
      "codemirror_mode": {
        "name": "ipython",
        "version": 3
      },
      "file_extension": ".py",
      "mimetype": "text/x-python",
      "name": "python",
      "nbconvert_exporter": "python",
      "pygments_lexer": "ipython3",
      "version": "3.8.13"
    },
    "orig_nbformat": 4,
    "vscode": {
      "interpreter": {
        "hash": "ca11ad6395cdedf9566fae895615e536994dcaaccdd1d5f900a22af192bb117e"
      }
    },
    "colab": {
      "provenance": [],
      "collapsed_sections": []
    }
  },
  "nbformat": 4,
  "nbformat_minor": 0
}